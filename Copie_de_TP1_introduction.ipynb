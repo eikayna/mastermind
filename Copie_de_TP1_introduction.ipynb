{
  "cells": [
    {
      "cell_type": "markdown",
      "id": "8309593c",
      "metadata": {
        "id": "8309593c"
      },
      "source": [
        "# Bienvenue !\n",
        "\n",
        "Avant de commencer cliquez sur Fichier puis Enregistrer une copie.\n",
        "\n",
        "Ceci est un notebook Jupyter. Il est composé de plusieurs cellules qui sont soit des cellules de code Python (comme la suivante) ou de texte Markdown (celle-ci). Vous pouvez ajouter des cellules avec les boutons +Code et +Texte au dessus.\n",
        "\n",
        "\n",
        "Pour lancer une cellule vous pouvez\n",
        "- Dans la barre de menu, cliquer sur Runtime, puis sur Run the focused cell (ou run all...).\n",
        "- Presser simultanément les touches Ctrl + Entrée.\n",
        "\n",
        "\n",
        "Pour tous les TP/TD/projet, je vous recommande de faire vos recherches sur Google en anglais. Il y a beaucoup de resources débutant disponibles en français, mais plus vous monterez en compétences et moins vous trouverez d'informations en français. Je vous conseille aussi de privilégier les moteurs de recherche aux IA générationnelles, ou d'utilisez une IA générationnelle comme vous poseriez une question à un professeur : vous pouvez me poser une question sur une notion à la quelle vous avez déjà réfléchi par vous même et comprenez mal, vous ne me demandez pas juste de répondre à une question pour vous.\n",
        "\n",
        "C'est parti !"
      ]
    },
    {
      "cell_type": "markdown",
      "source": [
        "# Nouvelle section"
      ],
      "metadata": {
        "id": "R29o51Tsh-Zu"
      },
      "id": "R29o51Tsh-Zu"
    },
    {
      "cell_type": "markdown",
      "id": "6494ae5e",
      "metadata": {
        "id": "6494ae5e"
      },
      "source": [
        "<span style=\"background-color:PapayaWhip\"> Prenez un moment pour vous familiariser avec l'interface. Cliquez sur les boutons de menus en haut pour voir toutes les possibilités.</span>"
      ]
    },
    {
      "cell_type": "code",
      "execution_count": 5,
      "id": "f51aa5dc",
      "metadata": {
        "id": "f51aa5dc"
      },
      "outputs": [],
      "source": [
        "# Cette cellule sert à importer des libraires (ou packages) Python\n",
        "# qui contiennent des fonctions dont nous avons besoin\n",
        "import numpy as np, pandas as pd\n",
        "import sklearn\n",
        "import matplotlib.pyplot as plt\n",
        "import seaborn as sns"
      ]
    },
    {
      "cell_type": "code",
      "source": [],
      "metadata": {
        "id": "5dRlu_ZOi1EN"
      },
      "id": "5dRlu_ZOi1EN",
      "execution_count": null,
      "outputs": []
    },
    {
      "cell_type": "markdown",
      "source": [],
      "metadata": {
        "id": "LhOTFJi2izl8"
      },
      "id": "LhOTFJi2izl8"
    },
    {
      "cell_type": "markdown",
      "id": "af3d77a6",
      "metadata": {
        "id": "af3d77a6"
      },
      "source": [
        "# Manipulation de Python"
      ]
    },
    {
      "cell_type": "markdown",
      "id": "f000c56e",
      "metadata": {
        "id": "f000c56e"
      },
      "source": [
        "<span style=\"background-color:PapayaWhip\"> Complétez la cellule suivante pour créer et appeler une fonction permettant de faire la somme d'une liste.</span>"
      ]
    },
    {
      "cell_type": "code",
      "source": [],
      "metadata": {
        "id": "XkmELujRkgdw"
      },
      "id": "XkmELujRkgdw",
      "execution_count": null,
      "outputs": []
    },
    {
      "cell_type": "markdown",
      "source": [
        "\n",
        "\n",
        "\n",
        "\n",
        "\n",
        "  \n"
      ],
      "metadata": {
        "id": "8mk4H7ATkJvL"
      },
      "id": "8mk4H7ATkJvL"
    },
    {
      "cell_type": "code",
      "execution_count": 13,
      "id": "ae004f90",
      "metadata": {
        "id": "ae004f90",
        "colab": {
          "base_uri": "https://localhost:8080/"
        },
        "outputId": "d9bd4873-121a-4760-dff5-92a2c91815eb"
      },
      "outputs": [
        {
          "output_type": "stream",
          "name": "stdout",
          "text": [
            "24\n"
          ]
        }
      ],
      "source": [
        "mes_nombres = [3, 8, 2, 5, 6]\n",
        "\n",
        "def somme_liste(nombres):\n",
        "    somme = 0\n",
        "    for n in nombres:\n",
        "       somme += n\n",
        "\n",
        "\n",
        "    return somme\n",
        "\n",
        "print(somme_liste(mes_nombres))"
      ]
    },
    {
      "cell_type": "markdown",
      "source": [],
      "metadata": {
        "id": "EnQUwyN4kEXV"
      },
      "id": "EnQUwyN4kEXV"
    },
    {
      "cell_type": "code",
      "source": [
        ""
      ],
      "metadata": {
        "id": "cXKcfZJIkC16"
      },
      "id": "cXKcfZJIkC16",
      "execution_count": null,
      "outputs": []
    },
    {
      "cell_type": "markdown",
      "source": [],
      "metadata": {
        "id": "jWIT7TU8kBzN"
      },
      "id": "jWIT7TU8kBzN"
    },
    {
      "cell_type": "markdown",
      "source": [
        "\n",
        "\n",
        "> Ajouter une citation\n",
        "\n"
      ],
      "metadata": {
        "id": "nwMwAl5nj3qH"
      },
      "id": "nwMwAl5nj3qH"
    },
    {
      "cell_type": "code",
      "execution_count": 34,
      "id": "441aeceb",
      "metadata": {
        "id": "441aeceb",
        "colab": {
          "base_uri": "https://localhost:8080/"
        },
        "outputId": "aff7e422-da2d-449b-c16a-8aee6fc57aed"
      },
      "outputs": [
        {
          "output_type": "stream",
          "name": "stdout",
          "text": [
            "8\n"
          ]
        }
      ],
      "source": [
        "mes_nombres = [3, 8, 2, 5, 6]\n",
        "\n",
        "def max_liste(nombres):\n",
        "    max=0\n",
        "    for i in nombres:\n",
        "\n",
        "      if max < i:\n",
        "       max = i\n",
        "\n",
        "    return max\n",
        "print(max_liste(mes_nombres))\n"
      ]
    },
    {
      "cell_type": "markdown",
      "id": "f232428c",
      "metadata": {
        "id": "f232428c"
      },
      "source": [
        "\n",
        "<span style=\"background-color:PapayaWhip\"> En vous servant des 2 fonctions précédantes, créez une fonction prenant en entrée une liste de listes, calcule la somme de chaque liste à l'intérieur et retourne la plus grande somme.</span>"
      ]
    },
    {
      "cell_type": "code",
      "execution_count": 41,
      "id": "fbd9fcec",
      "metadata": {
        "id": "fbd9fcec",
        "colab": {
          "base_uri": "https://localhost:8080/"
        },
        "outputId": "4504eb25-5ac8-4bd4-caf7-c894374a2d6c"
      },
      "outputs": [
        {
          "output_type": "stream",
          "name": "stdout",
          "text": [
            "60\n"
          ]
        }
      ],
      "source": [
        "listes = [[3, 8, 2, 5, 6], [10, 20, 30], [4, 5, 9], [7, 1, 8]]\n",
        "\n",
        "\n",
        "def max_somme_liste(liste_de_listes):\n",
        "    max_somme = 0\n",
        "    for sous_liste in liste_de_listes:\n",
        "        somme_sous_liste = somme_liste(sous_liste)\n",
        "        if somme_sous_liste > max_somme:\n",
        "            max_somme = somme_sous_liste\n",
        "    return max_somme\n",
        "\n",
        "\n",
        "print(max_somme_liste(listes))\n",
        "\n",
        "\n"
      ]
    },
    {
      "cell_type": "markdown",
      "id": "5cd87074",
      "metadata": {
        "id": "5cd87074"
      },
      "source": [
        "<span style=\"background-color:PapayaWhip\"> Utilisez la fonction numpy pour caculer la somme d'une liste en seule ligne. Faites de même pour le maximum.</span>\n"
      ]
    },
    {
      "cell_type": "code",
      "execution_count": null,
      "id": "6bd2c46e",
      "metadata": {
        "id": "6bd2c46e"
      },
      "outputs": [],
      "source": [
        "import numpy as np"
      ]
    },
    {
      "cell_type": "markdown",
      "id": "ef517161",
      "metadata": {
        "id": "ef517161"
      },
      "source": [
        "# Familiarisation avec pandas"
      ]
    },
    {
      "cell_type": "markdown",
      "id": "0d6269a1",
      "metadata": {
        "id": "0d6269a1"
      },
      "source": [
        "## Données\n",
        "\n",
        "Les données que nous allons utiliser pour plusieurs TP correspondent à une version modifiée et très réduite du jeu de données [RT-IOT 2022](https://archive.ics.uci.edu/dataset/942/rt-iot2022), qui est un jeu de données de détection d'intrusion sur une infrastructure IOT. Ce jeu de données a été choisi de manière à vous montrer l'intérêt du module non seulement pour les ILIA, mais pour SE et SQR.\n",
        "Prenez le temps de cliquer sur le lien pour lire le descriptif des données. Regardez également l'article de recherche joint, notamment la figure 2 et le nom des devices IOT inclues.\n",
        "\n",
        "Ce jeu de données peut être directement importé en utilisant le package du site, la ligne suivante permet de l'installer."
      ]
    },
    {
      "cell_type": "code",
      "source": [
        "!pip install ucimlrepo"
      ],
      "metadata": {
        "colab": {
          "base_uri": "https://localhost:8080/"
        },
        "id": "z1QLXkcZPprP",
        "outputId": "ac99e70a-34e6-4e86-a78b-022ccca68050"
      },
      "id": "z1QLXkcZPprP",
      "execution_count": 42,
      "outputs": [
        {
          "output_type": "stream",
          "name": "stdout",
          "text": [
            "Requirement already satisfied: ucimlrepo in /usr/local/lib/python3.10/dist-packages (0.0.7)\n",
            "Requirement already satisfied: pandas>=1.0.0 in /usr/local/lib/python3.10/dist-packages (from ucimlrepo) (2.1.4)\n",
            "Requirement already satisfied: certifi>=2020.12.5 in /usr/local/lib/python3.10/dist-packages (from ucimlrepo) (2024.8.30)\n",
            "Requirement already satisfied: numpy<2,>=1.22.4 in /usr/local/lib/python3.10/dist-packages (from pandas>=1.0.0->ucimlrepo) (1.26.4)\n",
            "Requirement already satisfied: python-dateutil>=2.8.2 in /usr/local/lib/python3.10/dist-packages (from pandas>=1.0.0->ucimlrepo) (2.8.2)\n",
            "Requirement already satisfied: pytz>=2020.1 in /usr/local/lib/python3.10/dist-packages (from pandas>=1.0.0->ucimlrepo) (2024.2)\n",
            "Requirement already satisfied: tzdata>=2022.1 in /usr/local/lib/python3.10/dist-packages (from pandas>=1.0.0->ucimlrepo) (2024.1)\n",
            "Requirement already satisfied: six>=1.5 in /usr/local/lib/python3.10/dist-packages (from python-dateutil>=2.8.2->pandas>=1.0.0->ucimlrepo) (1.16.0)\n"
          ]
        }
      ]
    },
    {
      "cell_type": "markdown",
      "source": [
        "Cliquez sur le lien, copiez collez les instructions permettant d'importer le jeu de données en Python et lancez les dans la cellule suivante."
      ],
      "metadata": {
        "id": "tFSMFvmcQ5sO"
      },
      "id": "tFSMFvmcQ5sO"
    },
    {
      "cell_type": "code",
      "execution_count": 18,
      "id": "6db10c66",
      "metadata": {
        "id": "6db10c66"
      },
      "outputs": [],
      "source": [
        "\n"
      ]
    },
    {
      "cell_type": "markdown",
      "id": "6a339477",
      "metadata": {
        "id": "6a339477"
      },
      "source": [
        "\n",
        "Nous allons utiliser pandas, qui permet de gérer des tableaux avec des noms de lignes et des noms de colonnes. Le tableau est de type DataFrame, (parfois raccourci en df). Le nom des lignes se nomme index.\n",
        "Lorsque le tableau n'a qu'une dimension (une ligne ou une colonne), il est de type Series et non DataFrame.\n",
        "\n",
        "Parcourez rapidement ce tutoriel pandas : https://pandas.pydata.org/docs/getting_started/intro_tutorials/03_subset_data.html#min-tut-03-subset\n",
        ". Vous pourrez y revenir par la suite, ce tutoriel vous aidera pour plusieurs des questions suivantes !\n",
        "\n"
      ]
    },
    {
      "cell_type": "markdown",
      "id": "00845837",
      "metadata": {
        "id": "00845837"
      },
      "source": [
        "<span style=\"background-color:PapayaWhip\"> Comparez les affichages des 3 prochaines cellules. Quelles sont les différences ? Lequel allez-vous utiliser par la suite ?</span>"
      ]
    },
    {
      "cell_type": "code",
      "execution_count": 19,
      "id": "aca894f2",
      "metadata": {
        "colab": {
          "base_uri": "https://localhost:8080/",
          "height": 141
        },
        "id": "aca894f2",
        "outputId": "6479bde5-4832-417c-d370-8041bb800069"
      },
      "outputs": [
        {
          "output_type": "error",
          "ename": "NameError",
          "evalue": "name 'X' is not defined",
          "traceback": [
            "\u001b[0;31m---------------------------------------------------------------------------\u001b[0m",
            "\u001b[0;31mNameError\u001b[0m                                 Traceback (most recent call last)",
            "\u001b[0;32m<ipython-input-19-b5fec669aca1>\u001b[0m in \u001b[0;36m<cell line: 1>\u001b[0;34m()\u001b[0m\n\u001b[0;32m----> 1\u001b[0;31m \u001b[0mX\u001b[0m\u001b[0;34m\u001b[0m\u001b[0;34m\u001b[0m\u001b[0m\n\u001b[0m",
            "\u001b[0;31mNameError\u001b[0m: name 'X' is not defined"
          ]
        }
      ],
      "source": [
        "X"
      ]
    },
    {
      "cell_type": "code",
      "execution_count": null,
      "id": "9efc0787",
      "metadata": {
        "id": "9efc0787"
      },
      "outputs": [],
      "source": [
        "print(X)"
      ]
    },
    {
      "cell_type": "code",
      "execution_count": null,
      "id": "f1b1da3d",
      "metadata": {
        "id": "f1b1da3d"
      },
      "outputs": [],
      "source": [
        "X.head(5)"
      ]
    },
    {
      "cell_type": "markdown",
      "id": "7e73760e",
      "metadata": {
        "id": "7e73760e"
      },
      "source": [
        "<span style=\"background-color:PapayaWhip\"> Affichez la taille de la dataframe. Combien y a-t-il de lignes ? De colonnes ? </span>"
      ]
    },
    {
      "cell_type": "code",
      "execution_count": null,
      "id": "6866f8ff",
      "metadata": {
        "id": "6866f8ff"
      },
      "outputs": [],
      "source": []
    },
    {
      "cell_type": "markdown",
      "id": "09c9ebeb",
      "metadata": {
        "id": "09c9ebeb"
      },
      "source": [
        "<span style=\"background-color:PapayaWhip\"> Affichez le nom des colonnes de la dataframe. </span>"
      ]
    },
    {
      "cell_type": "code",
      "execution_count": null,
      "id": "33853631",
      "metadata": {
        "id": "33853631"
      },
      "outputs": [],
      "source": []
    },
    {
      "cell_type": "markdown",
      "id": "78ea9fb7",
      "metadata": {
        "id": "78ea9fb7"
      },
      "source": [
        "<span style=\"background-color:PapayaWhip\"> Complétez les **deux** cellules suivantes </span>"
      ]
    },
    {
      "cell_type": "code",
      "execution_count": null,
      "id": "41efb9d7",
      "metadata": {
        "id": "41efb9d7"
      },
      "outputs": [],
      "source": [
        "# Il est possible d'accéder aux lignes et colonnes à partir de leur nom\n",
        "print(\"Afficher la ligne d'index 82 et la colonne flow_duration :\")\n",
        "display(X.loc[..., ...])\n",
        "\n",
        "print(\"Afficher la ligne d'index 82 et toutes les colonnes :\")\n",
        "# Il n'y a qu'une ligne, donc une seule dimension. C'est une Serie non plus une DataFrame\n",
        "...\n",
        "\n",
        "print(\"Afficher les lignes d'index 82 et 156 et toutes les colonnes :\")\n",
        "...\n",
        "\n",
        "print(\"Afficher toutes les lignes et la colonne 'flow_duration' :\")\n",
        "...\n",
        "\n",
        "print(\"Afficher toutes les lignes et les colonnes 'flow_duration' et 'service' :\")\n",
        "..."
      ]
    },
    {
      "cell_type": "code",
      "execution_count": null,
      "id": "5d8ad670",
      "metadata": {
        "id": "5d8ad670"
      },
      "outputs": [],
      "source": [
        "# Il est aussi possible d'accéder aux lignes et colonnes à partir de leur numéro (attention, ça commence à 0)\n",
        "\n",
        "print(\"Afficher la première ligne (toutes les colonnes) :\")\n",
        "display(X.iloc[..., ...]) # Il n'y a qu'une ligne, donc une seule dimension. C'est une Serie et non plus un DataFrame\n",
        "\n",
        "print(\"Afficher les ligne d'index 1 à 5 (toutes les colonnes) :\")\n",
        "...\n",
        "\n",
        "print(\"Afficher les 3 premières colonnes (toutes les lignes) :\")\n",
        "..."
      ]
    },
    {
      "cell_type": "code",
      "source": [],
      "metadata": {
        "id": "QgjHJIAoSdk5"
      },
      "id": "QgjHJIAoSdk5",
      "execution_count": null,
      "outputs": []
    },
    {
      "cell_type": "markdown",
      "source": [
        "# Nettoyage des données"
      ],
      "metadata": {
        "id": "-jTv7PIgTaBl"
      },
      "id": "-jTv7PIgTaBl"
    },
    {
      "cell_type": "markdown",
      "id": "d40a4916",
      "metadata": {
        "id": "d40a4916"
      },
      "source": [
        "<span style=\"background-color:PapayaWhip\"> En utilisant https://pandas.pydata.org/docs/reference/api/pandas.Series.value_counts.html\n",
        "affichez toutes les valeurs présentes dans la variable y (le label) ainsi que le nombre de lignes ayant cette valeur </span>"
      ]
    },
    {
      "cell_type": "code",
      "execution_count": null,
      "id": "51248e69",
      "metadata": {
        "colab": {
          "base_uri": "https://localhost:8080/"
        },
        "id": "51248e69",
        "outputId": "797fe2e9-a506-4e10-f015-49d5d25eda01"
      },
      "outputs": [
        {
          "output_type": "execute_result",
          "data": {
            "text/plain": [
              "Attack_type               \n",
              "DOS_SYN_Hping                 94659\n",
              "Thing_Speak                    8108\n",
              "ARP_poisioning                 7750\n",
              "MQTT_Publish                   4146\n",
              "NMAP_UDP_SCAN                  2590\n",
              "NMAP_XMAS_TREE_SCAN            2010\n",
              "NMAP_OS_DETECTION              2000\n",
              "NMAP_TCP_scan                  1002\n",
              "DDOS_Slowloris                  534\n",
              "Wipro_bulb                      253\n",
              "Metasploit_Brute_Force_SSH       37\n",
              "NMAP_FIN_SCAN                    28\n",
              "Name: count, dtype: int64"
            ]
          },
          "metadata": {},
          "execution_count": 12
        }
      ],
      "source": []
    },
    {
      "cell_type": "markdown",
      "source": [
        "En regardant la figure 2 de l'article de recherche (à partir du lien décrivant les données), quelles devices IOT reconnaissez-vous dans la liste des labels ? Laquelle manque ?"
      ],
      "metadata": {
        "id": "kMbewnISSn1P"
      },
      "id": "kMbewnISSn1P"
    },
    {
      "cell_type": "markdown",
      "source": [],
      "metadata": {
        "id": "gdrsVUDFSwVF"
      },
      "id": "gdrsVUDFSwVF"
    },
    {
      "cell_type": "markdown",
      "source": [
        "Créez une liste `normal` contenant les noms corrsepondants à des devices IOT (les autres correspondants à des attaques)\n",
        "Créez ensuite une variable `is_normal` qui vérifie si chaque valeur dans y est normale ou non. Combien y a-t-il de lignes correspondants à des attaques ?"
      ],
      "metadata": {
        "id": "_jJ44CgRSxnk"
      },
      "id": "_jJ44CgRSxnk"
    },
    {
      "cell_type": "code",
      "source": [],
      "metadata": {
        "id": "mxSQUqGGSm85"
      },
      "id": "mxSQUqGGSm85",
      "execution_count": null,
      "outputs": []
    },
    {
      "cell_type": "code",
      "source": [],
      "metadata": {
        "id": "QZDv91-xTdhV"
      },
      "id": "QZDv91-xTdhV",
      "execution_count": null,
      "outputs": []
    },
    {
      "cell_type": "markdown",
      "source": [
        "Regardez toutes les colonnes de X. Quelles colonnes ne sont pas numériques ? Supprimez-les de X et vérifiez que toutes les variables sont maintenant numériques."
      ],
      "metadata": {
        "id": "t8o1vBAhTpeh"
      },
      "id": "t8o1vBAhTpeh"
    },
    {
      "cell_type": "code",
      "source": [],
      "metadata": {
        "id": "btzif6KCTzSX"
      },
      "id": "btzif6KCTzSX",
      "execution_count": null,
      "outputs": []
    },
    {
      "cell_type": "markdown",
      "source": [
        "# Bonus"
      ],
      "metadata": {
        "id": "YkeYWQLliRa4"
      },
      "id": "YkeYWQLliRa4"
    },
    {
      "cell_type": "markdown",
      "source": [
        "Affichez les valeurs moyennes, l'écart type, le min et le max de chaque variable. Affichez l'histogramme de variables vous semblant intéressantes, ainsi que le scatter plot d'un couple de variables pour voir leur relation"
      ],
      "metadata": {
        "id": "UfZpDD1hiTSF"
      },
      "id": "UfZpDD1hiTSF"
    },
    {
      "cell_type": "code",
      "source": [],
      "metadata": {
        "id": "-_V_pZn9ipTA"
      },
      "id": "-_V_pZn9ipTA",
      "execution_count": null,
      "outputs": []
    }
  ],
  "metadata": {
    "kernelspec": {
      "display_name": "tp_ia",
      "language": "python",
      "name": "tp_ia"
    },
    "language_info": {
      "codemirror_mode": {
        "name": "ipython",
        "version": 3
      },
      "file_extension": ".py",
      "mimetype": "text/x-python",
      "name": "python",
      "nbconvert_exporter": "python",
      "pygments_lexer": "ipython3",
      "version": "3.9.7"
    },
    "colab": {
      "provenance": []
    }
  },
  "nbformat": 4,
  "nbformat_minor": 5
}